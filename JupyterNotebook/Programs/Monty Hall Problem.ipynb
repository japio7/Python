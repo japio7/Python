{
 "cells": [
  {
   "cell_type": "markdown",
   "metadata": {},
   "source": [
    "# Monty Hall Problem"
   ]
  },
  {
   "cell_type": "markdown",
   "metadata": {},
   "source": [
    "## If you are on a game show and you are asked to pick between 3 doors and you get to keep the prize behind the door after one door is elimated after you make a pick you are left with two doors. One door has the prize and the other door does not have the prize. The game show asks you if you want to switch doors, what would be more beneficial? Keeping the same door or switching doors?"
   ]
  },
  {
   "cell_type": "markdown",
   "metadata": {},
   "source": [
    "## We are going to simulate the results in Python."
   ]
  },
  {
   "cell_type": "markdown",
   "metadata": {},
   "source": [
    "### Import 'random' module so we can shuffle the doors and randomly pick a door"
   ]
  },
  {
   "cell_type": "code",
   "execution_count": 1,
   "metadata": {},
   "outputs": [],
   "source": [
    "import random"
   ]
  },
  {
   "cell_type": "markdown",
   "metadata": {},
   "source": [
    "### Write shuffle function to shuffle the list of doors"
   ]
  },
  {
   "cell_type": "code",
   "execution_count": 2,
   "metadata": {},
   "outputs": [],
   "source": [
    "def shuffle_list(items):\n",
    "    random.shuffle(items)\n",
    "    return items"
   ]
  },
  {
   "cell_type": "markdown",
   "metadata": {},
   "source": [
    "### Write pick function to randomly select a door"
   ]
  },
  {
   "cell_type": "code",
   "execution_count": 3,
   "metadata": {},
   "outputs": [],
   "source": [
    "def random_pick(items, indices):\n",
    "    ind = random.choice(indices)\n",
    "    pick = items[ind]\n",
    "    return (ind,pick)"
   ]
  },
  {
   "cell_type": "markdown",
   "metadata": {},
   "source": [
    "### Write a function to eliminate one of the wrong doors"
   ]
  },
  {
   "cell_type": "code",
   "execution_count": 4,
   "metadata": {},
   "outputs": [],
   "source": [
    "def eliminate_one(items, indices, i):\n",
    "    if i == 0:\n",
    "        if items[1] == \"\":\n",
    "            items.pop(1)\n",
    "        elif items[2] == \"\":\n",
    "            items.pop(2)\n",
    "    elif i == 1:\n",
    "        if items[0] == \"\":\n",
    "            items.pop(0)\n",
    "        elif items[2] == \"\":\n",
    "            items.pop(2)\n",
    "    elif i == 2:\n",
    "        if items[0] == \"\":\n",
    "            items.pop(0)\n",
    "        elif items[1] == \"\":\n",
    "            items.pop(1)\n",
    "    return items"
   ]
  },
  {
   "cell_type": "markdown",
   "metadata": {},
   "source": [
    "### Write function to switch doors"
   ]
  },
  {
   "cell_type": "code",
   "execution_count": 5,
   "metadata": {},
   "outputs": [],
   "source": [
    "def switch_pick(items, pick):\n",
    "    pickedIndex = items.index(pick)\n",
    "    switchedIndex = 0\n",
    "    if pickedIndex == 0:\n",
    "        switchedIndex = 1\n",
    "    elif pickedIndex == 1:\n",
    "        switchedIndex = 0\n",
    "    switchedPick = items[switchedIndex]\n",
    "    return switchedPick"
   ]
  },
  {
   "cell_type": "markdown",
   "metadata": {},
   "source": [
    "### Write function to see if the switch was a right choice"
   ]
  },
  {
   "cell_type": "code",
   "execution_count": 6,
   "metadata": {},
   "outputs": [],
   "source": [
    "def picked_right(pick):\n",
    "    if pick == \"Prize\":\n",
    "        return True\n",
    "    return False"
   ]
  },
  {
   "cell_type": "markdown",
   "metadata": {},
   "source": [
    "### Write function to calculate the percentage of the doors picked right after the switch"
   ]
  },
  {
   "cell_type": "code",
   "execution_count": 7,
   "metadata": {},
   "outputs": [],
   "source": [
    "def calc_right(n):\n",
    "    nTrue = 0\n",
    "    for i in range(n):\n",
    "        lst = [\"\", \"Prize\", \"\"]\n",
    "        inds = [0, 1, 2]\n",
    "        items = shuffle_list(lst)\n",
    "        ind,pick = random_pick(items, inds)\n",
    "        newList = eliminate_one(items, inds, ind)\n",
    "        switchedPick = switch_pick(newList, pick)\n",
    "        if picked_right(switchedPick):\n",
    "            nTrue+=1\n",
    "    return nTrue/n"
   ]
  },
  {
   "cell_type": "markdown",
   "metadata": {},
   "source": [
    "### Run the program"
   ]
  },
  {
   "cell_type": "code",
   "execution_count": 8,
   "metadata": {},
   "outputs": [
    {
     "data": {
      "text/plain": [
       "0.673"
      ]
     },
     "execution_count": 8,
     "metadata": {},
     "output_type": "execute_result"
    }
   ],
   "source": [
    "calc_right(1000)"
   ]
  },
  {
   "cell_type": "markdown",
   "metadata": {},
   "source": [
    "## Conclusion"
   ]
  },
  {
   "cell_type": "markdown",
   "metadata": {},
   "source": [
    "The test proves that it would be beneficial to switch doors to win the prize. A person that switches doors, gets the prize about 2/3 of the time. This test was taken using 1000 iterations."
   ]
  }
 ],
 "metadata": {
  "kernelspec": {
   "display_name": "Python 3",
   "language": "python",
   "name": "python3"
  },
  "language_info": {
   "codemirror_mode": {
    "name": "ipython",
    "version": 3
   },
   "file_extension": ".py",
   "mimetype": "text/x-python",
   "name": "python",
   "nbconvert_exporter": "python",
   "pygments_lexer": "ipython3",
   "version": "3.8.5"
  }
 },
 "nbformat": 4,
 "nbformat_minor": 4
}
