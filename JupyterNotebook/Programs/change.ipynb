{
 "cells": [
  {
   "cell_type": "markdown",
   "metadata": {},
   "source": [
    "# Change\n",
    "## This program takes input from the user, the cost of an item and the cash given and calculates the change and the minimum number of each bill or coin. "
   ]
  },
  {
   "cell_type": "code",
   "execution_count": 1,
   "metadata": {},
   "outputs": [],
   "source": [
    "def divisible(change, element):\n",
    "    return change//element>0\n"
   ]
  },
  {
   "cell_type": "code",
   "execution_count": 2,
   "metadata": {},
   "outputs": [],
   "source": [
    "def change_given(cost, cash, lst):\n",
    "    change = cash - cost\n",
    "    lst.sort(reverse=True)\n",
    "    array = []\n",
    "    for i in range(len(lst)):\n",
    "        if divisible(round(change, 2), lst[i]):\n",
    "            coin = lst[i]\n",
    "            numCoins = change//coin\n",
    "            change = round(change - numCoins*coin, 2)\n",
    "            coin = \"{:.2f}\".format(coin)\n",
    "            array.append((coin, numCoins))\n",
    "    initial_change = \"{:.2f}\".format(cash-cost)\n",
    "    return (initial_change), array\n"
   ]
  },
  {
   "cell_type": "code",
   "execution_count": 3,
   "metadata": {},
   "outputs": [
    {
     "name": "stdout",
     "output_type": "stream",
     "text": [
      "Enter the price of item: 22.79\n",
      "Enter the cash given: 100\n",
      "\n",
      "Change: $77.21\n",
      "$50.00: 1.0\n",
      "$20.00: 1.0\n",
      "$5.00: 1.0\n",
      "$1.00: 2.0\n",
      "$0.10: 2.0\n",
      "$0.01: 1.0\n"
     ]
    }
   ],
   "source": [
    "def main():\n",
    "    price = float(input(\"Enter the price of item: \"))\n",
    "    cash = float(input(\"Enter the cash given: \"))\n",
    "    if price > cash:\n",
    "        print(\"You do not have sufficient funds!\")\n",
    "        return\n",
    "    coins_dollars = [.01, .05, .10, .25, 1.00, 5.00, 10.00, 20.00, 50.00, 100.00]\n",
    "    change = change_given(price, cash, coins_dollars)\n",
    "    print(f\"\\nChange: ${change[0]}\")\n",
    "    for i in range(len(change[1])):\n",
    "        print(f\"${change[1][i][0]}: {change[1][i][1]}\")\n",
    "    return\n",
    "\n",
    "main()\n",
    "    "
   ]
  },
  {
   "cell_type": "code",
   "execution_count": null,
   "metadata": {},
   "outputs": [],
   "source": []
  }
 ],
 "metadata": {
  "kernelspec": {
   "display_name": "Python 3",
   "language": "python",
   "name": "python3"
  },
  "language_info": {
   "codemirror_mode": {
    "name": "ipython",
    "version": 3
   },
   "file_extension": ".py",
   "mimetype": "text/x-python",
   "name": "python",
   "nbconvert_exporter": "python",
   "pygments_lexer": "ipython3",
   "version": "3.8.5"
  }
 },
 "nbformat": 4,
 "nbformat_minor": 4
}
