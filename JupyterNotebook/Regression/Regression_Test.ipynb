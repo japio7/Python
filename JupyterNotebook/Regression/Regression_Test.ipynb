{
 "cells": [
  {
   "cell_type": "markdown",
   "metadata": {},
   "source": [
    "# Regression Test\n",
    "## Purpose: To analyze which regression model works the best on the given data\n",
    "### Dataset: fetch_california_housing from sklearn library\n",
    "### Predictor Variables: MedInc, HouseAge, AveRooms, AveBedrms, Population, AveOccup, Latitude, Longitude\n",
    "### Predicted Variable: MedHouseVal\n",
    "### Algorithms: Linear Regression, Ridge Regression, Decision Tree Regression, Random Forest Regression"
   ]
  },
  {
   "cell_type": "markdown",
   "metadata": {},
   "source": [
    "Import needed libraries"
   ]
  },
  {
   "cell_type": "code",
   "execution_count": 1,
   "metadata": {},
   "outputs": [],
   "source": [
    "import numpy as np\n",
    "import pandas as pd\n",
    "import seaborn as sns\n",
    "from sklearn.datasets import fetch_california_housing\n",
    "from sklearn.model_selection import train_test_split\n",
    "from sklearn.linear_model import LinearRegression, Ridge\n",
    "from sklearn.tree import DecisionTreeRegressor\n",
    "from sklearn.ensemble import RandomForestRegressor\n",
    "from sklearn.metrics import mean_squared_error, mean_absolute_error, r2_score"
   ]
  },
  {
   "cell_type": "code",
   "execution_count": 2,
   "metadata": {},
   "outputs": [
    {
     "data": {
      "text/html": [
       "<div>\n",
       "<style scoped>\n",
       "    .dataframe tbody tr th:only-of-type {\n",
       "        vertical-align: middle;\n",
       "    }\n",
       "\n",
       "    .dataframe tbody tr th {\n",
       "        vertical-align: top;\n",
       "    }\n",
       "\n",
       "    .dataframe thead th {\n",
       "        text-align: right;\n",
       "    }\n",
       "</style>\n",
       "<table border=\"1\" class=\"dataframe\">\n",
       "  <thead>\n",
       "    <tr style=\"text-align: right;\">\n",
       "      <th></th>\n",
       "      <th>MedInc</th>\n",
       "      <th>HouseAge</th>\n",
       "      <th>AveRooms</th>\n",
       "      <th>AveBedrms</th>\n",
       "      <th>Population</th>\n",
       "      <th>AveOccup</th>\n",
       "      <th>Latitude</th>\n",
       "      <th>Longitude</th>\n",
       "      <th>MedHouseVal</th>\n",
       "    </tr>\n",
       "  </thead>\n",
       "  <tbody>\n",
       "    <tr>\n",
       "      <th>0</th>\n",
       "      <td>8.3252</td>\n",
       "      <td>41.0</td>\n",
       "      <td>6.984127</td>\n",
       "      <td>1.023810</td>\n",
       "      <td>322.0</td>\n",
       "      <td>2.555556</td>\n",
       "      <td>37.88</td>\n",
       "      <td>-122.23</td>\n",
       "      <td>4.526</td>\n",
       "    </tr>\n",
       "    <tr>\n",
       "      <th>1</th>\n",
       "      <td>8.3014</td>\n",
       "      <td>21.0</td>\n",
       "      <td>6.238137</td>\n",
       "      <td>0.971880</td>\n",
       "      <td>2401.0</td>\n",
       "      <td>2.109842</td>\n",
       "      <td>37.86</td>\n",
       "      <td>-122.22</td>\n",
       "      <td>3.585</td>\n",
       "    </tr>\n",
       "    <tr>\n",
       "      <th>2</th>\n",
       "      <td>7.2574</td>\n",
       "      <td>52.0</td>\n",
       "      <td>8.288136</td>\n",
       "      <td>1.073446</td>\n",
       "      <td>496.0</td>\n",
       "      <td>2.802260</td>\n",
       "      <td>37.85</td>\n",
       "      <td>-122.24</td>\n",
       "      <td>3.521</td>\n",
       "    </tr>\n",
       "    <tr>\n",
       "      <th>3</th>\n",
       "      <td>5.6431</td>\n",
       "      <td>52.0</td>\n",
       "      <td>5.817352</td>\n",
       "      <td>1.073059</td>\n",
       "      <td>558.0</td>\n",
       "      <td>2.547945</td>\n",
       "      <td>37.85</td>\n",
       "      <td>-122.25</td>\n",
       "      <td>3.413</td>\n",
       "    </tr>\n",
       "    <tr>\n",
       "      <th>4</th>\n",
       "      <td>3.8462</td>\n",
       "      <td>52.0</td>\n",
       "      <td>6.281853</td>\n",
       "      <td>1.081081</td>\n",
       "      <td>565.0</td>\n",
       "      <td>2.181467</td>\n",
       "      <td>37.85</td>\n",
       "      <td>-122.25</td>\n",
       "      <td>3.422</td>\n",
       "    </tr>\n",
       "  </tbody>\n",
       "</table>\n",
       "</div>"
      ],
      "text/plain": [
       "   MedInc  HouseAge  AveRooms  AveBedrms  Population  AveOccup  Latitude  \\\n",
       "0  8.3252      41.0  6.984127   1.023810       322.0  2.555556     37.88   \n",
       "1  8.3014      21.0  6.238137   0.971880      2401.0  2.109842     37.86   \n",
       "2  7.2574      52.0  8.288136   1.073446       496.0  2.802260     37.85   \n",
       "3  5.6431      52.0  5.817352   1.073059       558.0  2.547945     37.85   \n",
       "4  3.8462      52.0  6.281853   1.081081       565.0  2.181467     37.85   \n",
       "\n",
       "   Longitude  MedHouseVal  \n",
       "0    -122.23        4.526  \n",
       "1    -122.22        3.585  \n",
       "2    -122.24        3.521  \n",
       "3    -122.25        3.413  \n",
       "4    -122.25        3.422  "
      ]
     },
     "execution_count": 2,
     "metadata": {},
     "output_type": "execute_result"
    }
   ],
   "source": [
    "california_data = fetch_california_housing()\n",
    "cal_data = california_data[\"data\"]\n",
    "cal_target = california_data[\"target\"]\n",
    "cal_target_names = california_data[\"target_names\"][0]\n",
    "cal_descr = california_data[\"DESCR\"]\n",
    "cal_feature_names = california_data[\"feature_names\"]\n",
    "\n",
    "california_df = pd.DataFrame(cal_data)\n",
    "california_df.columns = cal_feature_names\n",
    "california_df[f\"{cal_target_names}\"] = cal_target\n",
    "california_df.head()"
   ]
  },
  {
   "cell_type": "markdown",
   "metadata": {},
   "source": [
    "Check for null values"
   ]
  },
  {
   "cell_type": "code",
   "execution_count": 3,
   "metadata": {},
   "outputs": [
    {
     "data": {
      "text/plain": [
       "MedInc         0\n",
       "HouseAge       0\n",
       "AveRooms       0\n",
       "AveBedrms      0\n",
       "Population     0\n",
       "AveOccup       0\n",
       "Latitude       0\n",
       "Longitude      0\n",
       "MedHouseVal    0\n",
       "dtype: int64"
      ]
     },
     "execution_count": 3,
     "metadata": {},
     "output_type": "execute_result"
    }
   ],
   "source": [
    "california_df.isna().sum()"
   ]
  },
  {
   "cell_type": "markdown",
   "metadata": {},
   "source": [
    "Seperate X variables and y variable"
   ]
  },
  {
   "cell_type": "code",
   "execution_count": 4,
   "metadata": {},
   "outputs": [],
   "source": [
    "X = california_df.drop(columns=\"MedHouseVal\")\n",
    "y = california_df[\"MedHouseVal\"]"
   ]
  },
  {
   "cell_type": "markdown",
   "metadata": {},
   "source": [
    "Split training and testing data"
   ]
  },
  {
   "cell_type": "code",
   "execution_count": 5,
   "metadata": {},
   "outputs": [],
   "source": [
    "X_train, X_test, y_train, y_test = train_test_split(X, y, test_size = 0.2)"
   ]
  },
  {
   "cell_type": "markdown",
   "metadata": {},
   "source": [
    "Create functions to create model and get model metrics"
   ]
  },
  {
   "cell_type": "code",
   "execution_count": 6,
   "metadata": {},
   "outputs": [],
   "source": [
    "def create_model(X_train_data, y_train_data, algorithm):\n",
    "    model = algorithm\n",
    "    model.fit(X_train_data, y_train_data)\n",
    "    return model\n",
    "\n",
    "def model_metrics(X_test_data, y_test_data, m):\n",
    "    # RMSE, MAE, R2\n",
    "    preds = m.predict(X_test_data)\n",
    "    rmse = np.sqrt(mean_squared_error(preds, y_test_data))\n",
    "    mae = mean_absolute_error(preds, y_test_data)\n",
    "    r2 = r2_score(preds, y_test_data)\n",
    "    metrics = [rmse, mae, r2]\n",
    "    return metrics\n"
   ]
  },
  {
   "cell_type": "markdown",
   "metadata": {},
   "source": [
    "Perform all regressors"
   ]
  },
  {
   "cell_type": "code",
   "execution_count": 7,
   "metadata": {},
   "outputs": [
    {
     "name": "stdout",
     "output_type": "stream",
     "text": [
      "Linear Regression\n",
      "Root Mean Square Error:\t 0.7255988445991857\n",
      "Mean Absolute Error:\t 0.531738848938267\n",
      "R-Squared:\t\t 0.3362717883615146\n"
     ]
    }
   ],
   "source": [
    "# Linear Regression\n",
    "lr = create_model(X_train, y_train, LinearRegression())\n",
    "lr_metrics = model_metrics(X_test, y_test, lr)\n",
    "print(f\"Linear Regression\\nRoot Mean Square Error:\\t {lr_metrics[0]}\")\n",
    "print(f\"Mean Absolute Error:\\t {lr_metrics[1]}\")\n",
    "print(f\"R-Squared:\\t\\t {lr_metrics[2]}\")"
   ]
  },
  {
   "cell_type": "code",
   "execution_count": 8,
   "metadata": {},
   "outputs": [
    {
     "name": "stdout",
     "output_type": "stream",
     "text": [
      "Ridge Regression\n",
      "Root Mean Square Error:\t 0.7256052278113256\n",
      "Mean Absolute Error:\t 0.5317498150502642\n",
      "R-Squared:\t\t 0.33617827770806397\n"
     ]
    }
   ],
   "source": [
    "# Ridge Regression\n",
    "ridge = create_model(X_train, y_train, Ridge())\n",
    "ridge_metrics = model_metrics(X_test, y_test, ridge)\n",
    "print(f\"Ridge Regression\\nRoot Mean Square Error:\\t {ridge_metrics[0]}\")\n",
    "print(f\"Mean Absolute Error:\\t {ridge_metrics[1]}\")\n",
    "print(f\"R-Squared:\\t\\t {ridge_metrics[2]}\")"
   ]
  },
  {
   "cell_type": "code",
   "execution_count": 9,
   "metadata": {},
   "outputs": [
    {
     "name": "stdout",
     "output_type": "stream",
     "text": [
      "Decision Tree Regression\n",
      "Root Mean Square Error:\t 0.7202293530589429\n",
      "Mean Absolute Error:\t 0.45880207848837207\n",
      "R-Squared:\t\t 0.617537928049984\n"
     ]
    }
   ],
   "source": [
    "# Decision Tree Regression\n",
    "tree = create_model(X_train, y_train, DecisionTreeRegressor())\n",
    "tree_metrics = model_metrics(X_test, y_test, tree)\n",
    "print(f\"Decision Tree Regression\\nRoot Mean Square Error:\\t {tree_metrics[0]}\")\n",
    "print(f\"Mean Absolute Error:\\t {tree_metrics[1]}\")\n",
    "print(f\"R-Squared:\\t\\t {tree_metrics[2]}\")"
   ]
  },
  {
   "cell_type": "code",
   "execution_count": 10,
   "metadata": {},
   "outputs": [
    {
     "name": "stdout",
     "output_type": "stream",
     "text": [
      "Random Forest Regression\n",
      "Root Mean Square Error:\t 0.5067352528235012\n",
      "Mean Absolute Error:\t 0.33161477451550403\n",
      "R-Squared:\t\t 0.7538293767207424\n"
     ]
    }
   ],
   "source": [
    "# Random Forest Regression\n",
    "rf = create_model(X_train, y_train, RandomForestRegressor())\n",
    "rf_metrics = model_metrics(X_test, y_test, rf)\n",
    "print(f\"Random Forest Regression\\nRoot Mean Square Error:\\t {rf_metrics[0]}\")\n",
    "print(f\"Mean Absolute Error:\\t {rf_metrics[1]}\")\n",
    "print(f\"R-Squared:\\t\\t {rf_metrics[2]}\")"
   ]
  },
  {
   "cell_type": "markdown",
   "metadata": {},
   "source": [
    "Create dataframe to store algorithm metrics"
   ]
  },
  {
   "cell_type": "code",
   "execution_count": 11,
   "metadata": {},
   "outputs": [],
   "source": [
    "df = pd.DataFrame({\"Algorithm\":[\"Linear Regression\", \"Ridge Regression\", \"Decision Tree Regression\",\n",
    "                           \"Random Forest Regression\"],\n",
    "             \"RMSE\":[lr_metrics[0], ridge_metrics[0], tree_metrics[0], rf_metrics[0]],\n",
    "                  \"Mean Absolute Error\":[lr_metrics[1], ridge_metrics[1], tree_metrics[1], rf_metrics[1]],\n",
    "                  \"R-Squared\":[lr_metrics[2], ridge_metrics[2], tree_metrics[2], rf_metrics[2]]})\n"
   ]
  },
  {
   "cell_type": "markdown",
   "metadata": {},
   "source": [
    "#### Sort by RMSE"
   ]
  },
  {
   "cell_type": "code",
   "execution_count": 12,
   "metadata": {},
   "outputs": [
    {
     "data": {
      "text/html": [
       "<div>\n",
       "<style scoped>\n",
       "    .dataframe tbody tr th:only-of-type {\n",
       "        vertical-align: middle;\n",
       "    }\n",
       "\n",
       "    .dataframe tbody tr th {\n",
       "        vertical-align: top;\n",
       "    }\n",
       "\n",
       "    .dataframe thead th {\n",
       "        text-align: right;\n",
       "    }\n",
       "</style>\n",
       "<table border=\"1\" class=\"dataframe\">\n",
       "  <thead>\n",
       "    <tr style=\"text-align: right;\">\n",
       "      <th></th>\n",
       "      <th>Algorithm</th>\n",
       "      <th>RMSE</th>\n",
       "      <th>Mean Absolute Error</th>\n",
       "      <th>R-Squared</th>\n",
       "    </tr>\n",
       "  </thead>\n",
       "  <tbody>\n",
       "    <tr>\n",
       "      <th>0</th>\n",
       "      <td>Random Forest Regression</td>\n",
       "      <td>0.506735</td>\n",
       "      <td>0.331615</td>\n",
       "      <td>0.753829</td>\n",
       "    </tr>\n",
       "    <tr>\n",
       "      <th>1</th>\n",
       "      <td>Decision Tree Regression</td>\n",
       "      <td>0.720229</td>\n",
       "      <td>0.458802</td>\n",
       "      <td>0.617538</td>\n",
       "    </tr>\n",
       "    <tr>\n",
       "      <th>2</th>\n",
       "      <td>Linear Regression</td>\n",
       "      <td>0.725599</td>\n",
       "      <td>0.531739</td>\n",
       "      <td>0.336272</td>\n",
       "    </tr>\n",
       "    <tr>\n",
       "      <th>3</th>\n",
       "      <td>Ridge Regression</td>\n",
       "      <td>0.725605</td>\n",
       "      <td>0.531750</td>\n",
       "      <td>0.336178</td>\n",
       "    </tr>\n",
       "  </tbody>\n",
       "</table>\n",
       "</div>"
      ],
      "text/plain": [
       "                  Algorithm      RMSE  Mean Absolute Error  R-Squared\n",
       "0  Random Forest Regression  0.506735             0.331615   0.753829\n",
       "1  Decision Tree Regression  0.720229             0.458802   0.617538\n",
       "2         Linear Regression  0.725599             0.531739   0.336272\n",
       "3          Ridge Regression  0.725605             0.531750   0.336178"
      ]
     },
     "execution_count": 12,
     "metadata": {},
     "output_type": "execute_result"
    }
   ],
   "source": [
    "df.sort_values(by=\"RMSE\").reset_index(drop=True)"
   ]
  },
  {
   "cell_type": "markdown",
   "metadata": {},
   "source": [
    "## Conclusion"
   ]
  },
  {
   "cell_type": "markdown",
   "metadata": {},
   "source": [
    "The regression model that predicted best on the California Housing dataset was the Random Forest Regression model."
   ]
  }
 ],
 "metadata": {
  "kernelspec": {
   "display_name": "Python 3",
   "language": "python",
   "name": "python3"
  },
  "language_info": {
   "codemirror_mode": {
    "name": "ipython",
    "version": 3
   },
   "file_extension": ".py",
   "mimetype": "text/x-python",
   "name": "python",
   "nbconvert_exporter": "python",
   "pygments_lexer": "ipython3",
   "version": "3.8.5"
  }
 },
 "nbformat": 4,
 "nbformat_minor": 4
}
