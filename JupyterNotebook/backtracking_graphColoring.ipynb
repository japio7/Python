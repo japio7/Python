{
 "cells": [
  {
   "cell_type": "markdown",
   "metadata": {},
   "source": [
    "# Graph Coloring\n",
    "## Backtracking Algorithm"
   ]
  },
  {
   "cell_type": "markdown",
   "metadata": {},
   "source": [
    "The object of this program is to color every node in a graph from a given list of colors but no two connected nodes can be the same color."
   ]
  },
  {
   "cell_type": "markdown",
   "metadata": {},
   "source": [
    "## Adjacency Matrix"
   ]
  },
  {
   "cell_type": "code",
   "execution_count": 1,
   "metadata": {},
   "outputs": [],
   "source": [
    "graph = [[False, True, False, False, False, True ],\n",
    "         [True, False, True, False, False, True ],\n",
    "         [False, True, False, True, True, False],\n",
    "         [False, False, True, False, True, False],\n",
    "         [False, False, True, True, False, True ],\n",
    "         [True, True, False, False, True, False]]"
   ]
  },
  {
   "cell_type": "markdown",
   "metadata": {},
   "source": [
    "## Define Colors"
   ]
  },
  {
   "cell_type": "code",
   "execution_count": 2,
   "metadata": {},
   "outputs": [],
   "source": [
    "colors = ['r', 'g', 'b']"
   ]
  },
  {
   "cell_type": "markdown",
   "metadata": {},
   "source": [
    "## Function to check if node can be colored that color"
   ]
  },
  {
   "cell_type": "code",
   "execution_count": 3,
   "metadata": {},
   "outputs": [],
   "source": [
    "def feasible(vertex, color, x):\n",
    "    for i in range(len(graph)):\n",
    "        if graph[vertex][i] and color[i] == x:\n",
    "            return False\n",
    "    return True"
   ]
  },
  {
   "cell_type": "markdown",
   "metadata": {},
   "source": [
    "## Function to help color graph"
   ]
  },
  {
   "cell_type": "code",
   "execution_count": 4,
   "metadata": {},
   "outputs": [],
   "source": [
    "def graphColorHelper(numColors, array, v):\n",
    "    if v == len(graph):\n",
    "        return True\n",
    "\n",
    "    for i in range(1, numColors+1):\n",
    "        if feasible(v, array, i):\n",
    "            array[v] = i\n",
    "            if graphColorHelper(len(colors), array, v+1):\n",
    "                return True\n",
    "            array[v] = False"
   ]
  },
  {
   "cell_type": "markdown",
   "metadata": {},
   "source": [
    "## Color graph"
   ]
  },
  {
   "cell_type": "code",
   "execution_count": 5,
   "metadata": {},
   "outputs": [],
   "source": [
    "def graphColoring(graph, colors):\n",
    "    array = [0 for i in range(len(graph))]\n",
    "    lst=[]\n",
    "    if not graphColorHelper(len(colors), array, len(lst)):\n",
    "        return False\n",
    "    for i in array:\n",
    "        if i == 1:\n",
    "            lst.append('r')\n",
    "        elif i == 2:\n",
    "            lst.append('g')\n",
    "        elif i == 3:\n",
    "            lst.append('b')\n",
    "    return lst"
   ]
  },
  {
   "cell_type": "markdown",
   "metadata": {},
   "source": [
    "## Execute program and color graph"
   ]
  },
  {
   "cell_type": "code",
   "execution_count": 6,
   "metadata": {},
   "outputs": [
    {
     "name": "stdout",
     "output_type": "stream",
     "text": [
      "['r', 'g', 'r', 'b', 'g', 'b']\n"
     ]
    }
   ],
   "source": [
    "print(graphColoring(graph, colors))"
   ]
  },
  {
   "cell_type": "code",
   "execution_count": null,
   "metadata": {},
   "outputs": [],
   "source": []
  }
 ],
 "metadata": {
  "kernelspec": {
   "display_name": "Python 3",
   "language": "python",
   "name": "python3"
  },
  "language_info": {
   "codemirror_mode": {
    "name": "ipython",
    "version": 3
   },
   "file_extension": ".py",
   "mimetype": "text/x-python",
   "name": "python",
   "nbconvert_exporter": "python",
   "pygments_lexer": "ipython3",
   "version": "3.8.5"
  }
 },
 "nbformat": 4,
 "nbformat_minor": 4
}
