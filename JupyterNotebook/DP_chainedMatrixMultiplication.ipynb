{
 "cells": [
  {
   "cell_type": "markdown",
   "metadata": {},
   "source": [
    "# Chained Matrix Multiplication\n",
    "## Dynamic Programming Algorithm\n",
    "### Function to print Matrix"
   ]
  },
  {
   "cell_type": "code",
   "execution_count": 1,
   "metadata": {},
   "outputs": [],
   "source": [
    "def printMatrix(m):\n",
    "    for row in m:\n",
    "        print(row)"
   ]
  },
  {
   "cell_type": "markdown",
   "metadata": {},
   "source": [
    "### Function to chain matrix and create traceback table\n",
    "Print tables"
   ]
  },
  {
   "cell_type": "code",
   "execution_count": 10,
   "metadata": {},
   "outputs": [],
   "source": [
    "def chainMatrix(dims):\n",
    "    # Set the length of dims\n",
    "    n = len(dims)-1\n",
    "    \n",
    "    # Create the empty 2-D optimal table\n",
    "    m = [[None for i in range(n)] for j in range(n)]\n",
    "\n",
    "    # Create the empty 2-D traceback table\n",
    "    traceback = [[0 for i in range(n)] for j in range(n)]\n",
    "\n",
    "    # Create matrix number to pass as passedMat\n",
    "    A = [a for a in range(n)]\n",
    "\n",
    "    # Fill in the base case values\n",
    "    for i in range(n):\n",
    "        m[i][i] = 0\n",
    "\n",
    "    # Fill in the rest of the table diagonal by diagonal\n",
    "    for chainLength in range(2,n+1):\n",
    "        for i in range(n+1-chainLength):\n",
    "            j = i + chainLength - 1\n",
    "\n",
    "            # Fill in m[i][j] with the best of the recursive options\n",
    "            m[i][j] = float(\"inf\")\n",
    "            for k in range(i,j):\n",
    "                # Two previous table values plus\n",
    "                # what it cost to mult the resulting matrices\n",
    "                q = m[i][k]+m[k+1][j]+dims[i]*dims[k+1]*dims[j+1]\n",
    "                if q < m[i][j]:\n",
    "                    traceback[i][j] = k\n",
    "                    m[i][j] = q\n",
    "\n",
    "    # Print tables\n",
    "    print('Optimal number of multiplications')\n",
    "    printMatrix(m)\n",
    "    print('\\nTraceback table')\n",
    "    printMatrix(traceback)\n",
    "    print('\\n')\n",
    "    \n",
    "    # Call parenStr function to print the results\n",
    "    print(parenStr(traceback, 0, n-1) )\n",
    "\n",
    "    # Return Optimal\n",
    "    return m[0][n-1]"
   ]
  },
  {
   "cell_type": "markdown",
   "metadata": {},
   "source": [
    "## Print as string"
   ]
  },
  {
   "cell_type": "code",
   "execution_count": 11,
   "metadata": {},
   "outputs": [],
   "source": [
    "def parenStr(trace, i, j):\n",
    "    if i == j:\n",
    "        return f'A{str(i)}'\n",
    "    else:\n",
    "        split = trace[i][j]\n",
    "        left = parenStr(trace, i, split)\n",
    "        right = parenStr(trace, split+1, j)\n",
    "        return f'({left}) ({right})'"
   ]
  },
  {
   "cell_type": "markdown",
   "metadata": {},
   "source": [
    "### The matrices dimensions"
   ]
  },
  {
   "cell_type": "code",
   "execution_count": 12,
   "metadata": {},
   "outputs": [],
   "source": [
    "dims = [30,35,15,5,10,20,25]"
   ]
  },
  {
   "cell_type": "markdown",
   "metadata": {},
   "source": [
    "### Run the program"
   ]
  },
  {
   "cell_type": "code",
   "execution_count": 13,
   "metadata": {},
   "outputs": [
    {
     "name": "stdout",
     "output_type": "stream",
     "text": [
      "Optimal number of multiplications\n",
      "[0, 15750, 7875, 9375, 11875, 15125]\n",
      "[None, 0, 2625, 4375, 7125, 10500]\n",
      "[None, None, 0, 750, 2500, 5375]\n",
      "[None, None, None, 0, 1000, 3500]\n",
      "[None, None, None, None, 0, 5000]\n",
      "[None, None, None, None, None, 0]\n",
      "\n",
      "Traceback table\n",
      "[0, 0, 0, 2, 2, 2]\n",
      "[0, 0, 1, 2, 2, 2]\n",
      "[0, 0, 0, 2, 2, 2]\n",
      "[0, 0, 0, 0, 3, 4]\n",
      "[0, 0, 0, 0, 0, 4]\n",
      "[0, 0, 0, 0, 0, 0]\n",
      "\n",
      "\n",
      "((A0) ((A1) (A2))) (((A3) (A4)) (A5))\n",
      "15125\n"
     ]
    }
   ],
   "source": [
    "print(chainMatrix(dims))"
   ]
  },
  {
   "cell_type": "code",
   "execution_count": null,
   "metadata": {},
   "outputs": [],
   "source": []
  }
 ],
 "metadata": {
  "kernelspec": {
   "display_name": "Python 3",
   "language": "python",
   "name": "python3"
  },
  "language_info": {
   "codemirror_mode": {
    "name": "ipython",
    "version": 3
   },
   "file_extension": ".py",
   "mimetype": "text/x-python",
   "name": "python",
   "nbconvert_exporter": "python",
   "pygments_lexer": "ipython3",
   "version": "3.8.5"
  }
 },
 "nbformat": 4,
 "nbformat_minor": 4
}
