{
 "cells": [
  {
   "cell_type": "markdown",
   "metadata": {},
   "source": [
    "# Stack, Queue"
   ]
  },
  {
   "cell_type": "markdown",
   "metadata": {},
   "source": [
    "### Import deque from collections library"
   ]
  },
  {
   "cell_type": "code",
   "execution_count": 1,
   "metadata": {},
   "outputs": [],
   "source": [
    "from collections import deque"
   ]
  },
  {
   "cell_type": "markdown",
   "metadata": {},
   "source": [
    "### Create Stack"
   ]
  },
  {
   "cell_type": "code",
   "execution_count": 2,
   "metadata": {},
   "outputs": [],
   "source": [
    "class MyStack:\n",
    "    def __init__(self, num):\n",
    "        self.items = []\n",
    "\n",
    "    def __str__(self):\n",
    "        return f'{self.items}'\n",
    "\n",
    "    def __iter__(self):\n",
    "        return (x for x in self.items)\n",
    "\n",
    "    def empty(self):\n",
    "        if self.items == []:\n",
    "            return True\n",
    "        return False\n",
    "\n",
    "    def top(self):\n",
    "        try:\n",
    "            if not self.empty():\n",
    "                return self.items[-1]\n",
    "            else:\n",
    "                raise Exception('Error: Stack is empty!')\n",
    "        except Exception as e:\n",
    "            return e\n",
    "\n",
    "    def push(self, item):\n",
    "        return self.items.append(item)\n",
    "\n",
    "    def pop(self):\n",
    "        try:\n",
    "            if not self.empty():\n",
    "                return self.items.pop()\n",
    "            else:\n",
    "                raise Exception('Error: Stack is empty!')\n",
    "        except Exception as e:\n",
    "            return e"
   ]
  },
  {
   "cell_type": "markdown",
   "metadata": {},
   "source": [
    "### Create Queue"
   ]
  },
  {
   "cell_type": "code",
   "execution_count": 3,
   "metadata": {},
   "outputs": [],
   "source": [
    "class MyQueue:\n",
    "    def __init__(self, num):\n",
    "        self.items = deque([])\n",
    "\n",
    "    def __str__(self):\n",
    "        return f\"{self.items}\"\n",
    "\n",
    "    def __iter__(self):\n",
    "        return (x for x in self.items)\n",
    "\n",
    "    def empty(self):\n",
    "        if len(self.items) == 0:\n",
    "            return True\n",
    "        return False\n",
    "\n",
    "    def front(self):\n",
    "        try:\n",
    "            if not self.empty():\n",
    "                return self.items[0]\n",
    "            else:\n",
    "                raise Exception('Error: Queue is empty!')\n",
    "        except Exception as e:\n",
    "            return e\n",
    "\n",
    "    def enqueue(self, item):\n",
    "        return self.items.append(item)\n",
    "\n",
    "    def dequeue(self):\n",
    "        try:\n",
    "            if not self.empty():\n",
    "                return self.items.popleft()\n",
    "            else:\n",
    "                raise Exception('Error: Queue is empty!')\n",
    "        except Exception as e:\n",
    "            return e"
   ]
  },
  {
   "cell_type": "markdown",
   "metadata": {},
   "source": [
    "### Testing Stack"
   ]
  },
  {
   "cell_type": "code",
   "execution_count": 4,
   "metadata": {},
   "outputs": [
    {
     "name": "stdout",
     "output_type": "stream",
     "text": [
      "True\n",
      "8\n",
      "False\n",
      "3\n",
      "3\n",
      "5\n",
      "Error: Stack is empty!\n"
     ]
    }
   ],
   "source": [
    "s = MyStack(int)\n",
    "print(s.empty())\n",
    "s.push(5)\n",
    "s.push(8)\n",
    "print(s.pop())\n",
    "s.push(3)\n",
    "print(s.empty())\n",
    "print(s.top())\n",
    "print(s.pop())\n",
    "print(s.pop())\n",
    "print(s.pop())"
   ]
  },
  {
   "cell_type": "markdown",
   "metadata": {},
   "source": [
    "### Testing Queue"
   ]
  },
  {
   "cell_type": "code",
   "execution_count": 5,
   "metadata": {},
   "outputs": [
    {
     "name": "stdout",
     "output_type": "stream",
     "text": [
      "True\n",
      "5\n",
      "False\n",
      "8\n",
      "8\n",
      "3\n",
      "Error: Queue is empty!\n"
     ]
    }
   ],
   "source": [
    "q = MyQueue(int)\n",
    "print(q.empty())\n",
    "q.enqueue(5)\n",
    "q.enqueue(8)\n",
    "print(q.dequeue())\n",
    "q.enqueue(3)\n",
    "print(q.empty())\n",
    "print(q.front())\n",
    "print(q.dequeue())\n",
    "print(q.dequeue())\n",
    "print(q.dequeue())"
   ]
  },
  {
   "cell_type": "code",
   "execution_count": null,
   "metadata": {},
   "outputs": [],
   "source": []
  }
 ],
 "metadata": {
  "kernelspec": {
   "display_name": "Python 3",
   "language": "python",
   "name": "python3"
  },
  "language_info": {
   "codemirror_mode": {
    "name": "ipython",
    "version": 3
   },
   "file_extension": ".py",
   "mimetype": "text/x-python",
   "name": "python",
   "nbconvert_exporter": "python",
   "pygments_lexer": "ipython3",
   "version": "3.8.5"
  }
 },
 "nbformat": 4,
 "nbformat_minor": 4
}
