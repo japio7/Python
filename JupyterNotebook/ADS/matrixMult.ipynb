{
 "cells": [
  {
   "cell_type": "markdown",
   "metadata": {},
   "source": [
    "# Matrix Multiplication"
   ]
  },
  {
   "cell_type": "markdown",
   "metadata": {},
   "source": [
    "### Function to print the rows"
   ]
  },
  {
   "cell_type": "code",
   "execution_count": 20,
   "metadata": {},
   "outputs": [],
   "source": [
    "def printMatrix(m):\n",
    "    for row in m:\n",
    "        print(row)"
   ]
  },
  {
   "cell_type": "markdown",
   "metadata": {},
   "source": [
    "### Define function to calculate matrix multiplication "
   ]
  },
  {
   "cell_type": "code",
   "execution_count": 21,
   "metadata": {},
   "outputs": [],
   "source": [
    "def matrixMult(A, B):\n",
    "    C = []\n",
    "    if len(A[0]) != len(B):\n",
    "        C.append('Invalid Operation')\n",
    "        return C\n",
    "    for i in range(len(A)):\n",
    "        array = []\n",
    "        for j in range(len(B[0])):\n",
    "            sum = 0\n",
    "            for k in range(len(B)):\n",
    "                sum += A[i][k] * B[k][j]\n",
    "            array.append(sum)\n",
    "        C.append(array)\n",
    "    return C"
   ]
  },
  {
   "cell_type": "markdown",
   "metadata": {},
   "source": [
    "### Testing Code\n",
    "#### Test 1"
   ]
  },
  {
   "cell_type": "code",
   "execution_count": 22,
   "metadata": {},
   "outputs": [
    {
     "name": "stdout",
     "output_type": "stream",
     "text": [
      "Test 1\n",
      "[7, 12, 8]\n",
      "[17, 38, 63]\n",
      "[20, 110, 95]\n"
     ]
    }
   ],
   "source": [
    "A = [[2, -3, 3],\n",
    "    [-2, 6, 5],\n",
    "    [4, 7, 8]]\n",
    "\n",
    "B = [[-1, 9, 1],\n",
    "    [ 0, 6, 5],\n",
    "    [ 3, 4, 7]]\n",
    "\n",
    "C = matrixMult(A, B)\n",
    "\n",
    "if C:\n",
    "    print(\"Test 1\")\n",
    "    printMatrix(C)"
   ]
  },
  {
   "cell_type": "markdown",
   "metadata": {},
   "source": [
    "#### Test 2"
   ]
  },
  {
   "cell_type": "code",
   "execution_count": 23,
   "metadata": {},
   "outputs": [
    {
     "name": "stdout",
     "output_type": "stream",
     "text": [
      "Test 2\n",
      "Invalid Operation\n"
     ]
    }
   ],
   "source": [
    "A = [[2, -3, 3, 0],\n",
    "    [-2, 6, 5, 1],\n",
    "    [4, 7, 8, 2]]\n",
    "\n",
    "B = [[-1, 9, 1],\n",
    "    [ 0, 6, 5],\n",
    "    [ 3, 4, 7]]\n",
    "\n",
    "C = matrixMult(A, B)\n",
    "\n",
    "if C:\n",
    "    print(\"Test 2\")\n",
    "    printMatrix(C)"
   ]
  },
  {
   "cell_type": "markdown",
   "metadata": {},
   "source": [
    "#### Test 3"
   ]
  },
  {
   "cell_type": "code",
   "execution_count": 25,
   "metadata": {},
   "outputs": [
    {
     "name": "stdout",
     "output_type": "stream",
     "text": [
      "Test 3\n",
      "[12, 22, 23]\n",
      "[15, 34, 57]\n"
     ]
    }
   ],
   "source": [
    "A = [[2, -3, 3, 5],\n",
    "    [-2, 6, 5, -2]]\n",
    "\n",
    "B = [[-1, 9, 1],\n",
    "    [ 0, 6, 5],\n",
    "    [ 3, 4, 7],\n",
    "    [ 1, 2, 3]]\n",
    "\n",
    "C = matrixMult(A, B)\n",
    "\n",
    "if C:\n",
    "    print(\"Test 3\")\n",
    "    printMatrix(C)"
   ]
  },
  {
   "cell_type": "code",
   "execution_count": null,
   "metadata": {},
   "outputs": [],
   "source": []
  }
 ],
 "metadata": {
  "kernelspec": {
   "display_name": "Python 3",
   "language": "python",
   "name": "python3"
  },
  "language_info": {
   "codemirror_mode": {
    "name": "ipython",
    "version": 3
   },
   "file_extension": ".py",
   "mimetype": "text/x-python",
   "name": "python",
   "nbconvert_exporter": "python",
   "pygments_lexer": "ipython3",
   "version": "3.8.5"
  }
 },
 "nbformat": 4,
 "nbformat_minor": 4
}
