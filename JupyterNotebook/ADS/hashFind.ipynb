{
 "cells": [
  {
   "cell_type": "markdown",
   "metadata": {},
   "source": [
    "# Hash Table"
   ]
  },
  {
   "cell_type": "markdown",
   "metadata": {},
   "source": [
    "### Create a hash table and find value"
   ]
  },
  {
   "cell_type": "code",
   "execution_count": 1,
   "metadata": {},
   "outputs": [
    {
     "name": "stdout",
     "output_type": "stream",
     "text": [
      "[[], [28, 19, 10], [20], [3], [], [14], [15, 33], [], [17]]\n",
      "10 found at index (1, 2)\n",
      "21 not in list!\n"
     ]
    }
   ],
   "source": [
    "array = [14, 28, 19, 15, 20, 33, 3, 17, 10]\n",
    "\n",
    "def createHashTab(lst):\n",
    "    table = [[] for x in range(len(lst))]\n",
    "    for i in lst:\n",
    "        a = i%len(lst)\n",
    "        table[a].append(i)\n",
    "    return table\n",
    "\n",
    "def findValueHash(lst, val):\n",
    "    index1, index2 = 0, 0\n",
    "    foundNumber = False\n",
    "    for ls in lst:\n",
    "        if val in ls:\n",
    "            index1 = lst.index(ls)\n",
    "            index2 = lst[index1].index(val)\n",
    "            foundNumber = True\n",
    "    if not foundNumber:\n",
    "        return f\"{val} not in list!\"\n",
    "\n",
    "    return f\"{val} found at index {index1,index2}\"\n",
    "\n",
    "print(createHashTab(array))\n",
    "print(findValueHash(createHashTab(array), 10))\n",
    "print(findValueHash(createHashTab(array), 21))"
   ]
  }
 ],
 "metadata": {
  "kernelspec": {
   "display_name": "Python 3",
   "language": "python",
   "name": "python3"
  },
  "language_info": {
   "codemirror_mode": {
    "name": "ipython",
    "version": 3
   },
   "file_extension": ".py",
   "mimetype": "text/x-python",
   "name": "python",
   "nbconvert_exporter": "python",
   "pygments_lexer": "ipython3",
   "version": "3.8.5"
  }
 },
 "nbformat": 4,
 "nbformat_minor": 4
}
