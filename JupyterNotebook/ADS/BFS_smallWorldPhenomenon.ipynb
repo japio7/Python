{
 "cells": [
  {
   "cell_type": "markdown",
   "metadata": {},
   "source": [
    "# Small World Phenomenon\n",
    "## Breadth-First Search algorithm\n",
    "### Refers to the preposition that we are all linked by short chains of acquaintances. 'Six degrees of seperation' refers to the idea that all pairs of people are at most six social connections away from each other."
   ]
  },
  {
   "cell_type": "markdown",
   "metadata": {},
   "source": [
    "### Import libraries"
   ]
  },
  {
   "cell_type": "code",
   "execution_count": 1,
   "metadata": {},
   "outputs": [],
   "source": [
    "import itertools as itt\n",
    "import operator as op\n",
    "from typing import List, Dict, AnyStr, Tuple\n",
    "import random"
   ]
  },
  {
   "cell_type": "markdown",
   "metadata": {},
   "source": [
    "### Read in .csv file of data and return a list of pairs of people that know each other."
   ]
  },
  {
   "cell_type": "code",
   "execution_count": 2,
   "metadata": {},
   "outputs": [],
   "source": [
    "def loadGraph(edgeFilename):\n",
    "    array = []\n",
    "    lst = []\n",
    "    print('Getting Graph.....')\n",
    "    with open(edgeFilename, \"r\") as f:\n",
    "        for row in f:\n",
    "            row = row.strip()\n",
    "            row = row.split(\" \")\n",
    "            tup = (int(row[0]), int(row[-1]))\n",
    "            array.append(tup)\n",
    "    for j in array:\n",
    "        pair = [j[0], j[-1]]\n",
    "        lst.append(pair)\n",
    "    return lst"
   ]
  },
  {
   "cell_type": "markdown",
   "metadata": {},
   "source": [
    "### Convert list into dictionary where the key is a node and the values are a list of nodes that the key knows."
   ]
  },
  {
   "cell_type": "code",
   "execution_count": 3,
   "metadata": {},
   "outputs": [],
   "source": [
    "def to_dict(graph : List[Tuple[AnyStr,AnyStr]]) -> Dict[AnyStr,List[AnyStr]]:\n",
    "    myDict = {}\n",
    "    key = op.itemgetter(0)\n",
    "    val = op.itemgetter(1)\n",
    "    graph = [list(sorted(e)) for e in graph]\n",
    "    keys = set(itt.chain.from_iterable(graph))\n",
    "    for k in keys:\n",
    "        for v in graph:\n",
    "            if k in v:\n",
    "                for j in v:\n",
    "                    if k != j:\n",
    "                        if k not in myDict:\n",
    "                            myDict.update({k : [j]})\n",
    "                        else:\n",
    "                            myDict[k].extend([j])\n",
    "    return myDict"
   ]
  },
  {
   "cell_type": "markdown",
   "metadata": {},
   "source": [
    "### Define MyQueue class"
   ]
  },
  {
   "cell_type": "code",
   "execution_count": 4,
   "metadata": {},
   "outputs": [],
   "source": [
    "class MyQueue:\n",
    "    def __init__(self):\n",
    "        self.items = []\n",
    "\n",
    "    def __str__(self):\n",
    "        return f\"{self.items}\"\n",
    "\n",
    "    def emptyQueue(self):\n",
    "        return self.items == []\n",
    "\n",
    "    def enqueue(self, item):\n",
    "        return self.items.insert(0, item)\n",
    "\n",
    "    def dequeue(self):\n",
    "        return self.items.pop()\n",
    "\n",
    "    def __iter__(self):\n",
    "        return (x for x in self.items)"
   ]
  },
  {
   "cell_type": "markdown",
   "metadata": {},
   "source": [
    "### Breadth-First Search algorithm"
   ]
  },
  {
   "cell_type": "code",
   "execution_count": 5,
   "metadata": {},
   "outputs": [],
   "source": [
    "def bfs(graph, s):\n",
    "    array = []\n",
    "    visited = []\n",
    "    visited.insert(0, s)\n",
    "    queue = MyQueue()\n",
    "    queue.enqueue([s, 0])\n",
    "    while not queue.emptyQueue():\n",
    "        curr = queue.dequeue()\n",
    "        s = curr[0]\n",
    "        dist = curr[1]\n",
    "        for i in graph[s]:\n",
    "            if i not in visited:\n",
    "                visited.insert(0, i)\n",
    "                queue.enqueue([i, dist+1])\n",
    "                array.append({i : dist+1})\n",
    "    return array"
   ]
  },
  {
   "cell_type": "markdown",
   "metadata": {},
   "source": [
    "### Distance Distribution"
   ]
  },
  {
   "cell_type": "code",
   "execution_count": 6,
   "metadata": {},
   "outputs": [],
   "source": [
    "def distanceDistribution(G):\n",
    "    exists = []\n",
    "    items = []\n",
    "    dict1 = {}\n",
    "    for x in G:\n",
    "        x = x.values()\n",
    "        x = ''.join([c for c in str(x)])[13:-2]\n",
    "        items.append(int(x))\n",
    "    for i in range(len(items)):\n",
    "        freq = 1\n",
    "        if items[i] not in exists:\n",
    "            exists.append(items[i])\n",
    "            for j in range(i+1, len(items)):\n",
    "                if items[i] == items[j]:\n",
    "                    freq+=1\n",
    "            dict1.update({items[i] : freq})\n",
    "    return dict1"
   ]
  },
  {
   "cell_type": "markdown",
   "metadata": {},
   "source": [
    "### The main function that runs all functions combined"
   ]
  },
  {
   "cell_type": "code",
   "execution_count": 7,
   "metadata": {},
   "outputs": [],
   "source": [
    "def main():\n",
    "    result = {}\n",
    "    loaded = loadGraph('edges.txt')\n",
    "    graph = to_dict(loaded)\n",
    "    random_number = random.choice(random.choice(loaded))\n",
    "    print(f'Source Number:\\t{random_number}')\n",
    "    res = distanceDistribution(bfs(graph, random_number))\n",
    "    paths = sum(res.values())\n",
    "\n",
    "    for k,v in res.items():\n",
    "        result.update({k : '{:.1%}'.format(v/paths)})\n",
    "    print(result)"
   ]
  },
  {
   "cell_type": "markdown",
   "metadata": {},
   "source": [
    "### Call main( )"
   ]
  },
  {
   "cell_type": "code",
   "execution_count": 8,
   "metadata": {},
   "outputs": [
    {
     "name": "stdout",
     "output_type": "stream",
     "text": [
      "Getting Graph.....\n",
      "Source Number:\t3545\n",
      "{1: '2.1%', 2: '11.5%', 3: '3.8%', 4: '35.0%', 5: '46.3%', 6: '1.4%'}\n"
     ]
    }
   ],
   "source": [
    "if __name__ == '__main__':\n",
    "    main()"
   ]
  },
  {
   "cell_type": "code",
   "execution_count": null,
   "metadata": {},
   "outputs": [],
   "source": []
  }
 ],
 "metadata": {
  "kernelspec": {
   "display_name": "Python 3",
   "language": "python",
   "name": "python3"
  },
  "language_info": {
   "codemirror_mode": {
    "name": "ipython",
    "version": 3
   },
   "file_extension": ".py",
   "mimetype": "text/x-python",
   "name": "python",
   "nbconvert_exporter": "python",
   "pygments_lexer": "ipython3",
   "version": "3.8.5"
  }
 },
 "nbformat": 4,
 "nbformat_minor": 4
}
