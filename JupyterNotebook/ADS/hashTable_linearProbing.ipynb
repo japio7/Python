{
 "cells": [
  {
   "cell_type": "markdown",
   "metadata": {},
   "source": [
    "# Hash Table\n",
    "## Open Addressing with Linear Probing"
   ]
  },
  {
   "cell_type": "markdown",
   "metadata": {},
   "source": [
    "### Create MyHashTable class"
   ]
  },
  {
   "cell_type": "code",
   "execution_count": 1,
   "metadata": {},
   "outputs": [],
   "source": [
    "class MyHashtable(object):\n",
    "    def __init__(self, size): # Creates an empty hashtable and a status list\n",
    "        self.size = size\n",
    "        self.table = [None for x in range(size)]\n",
    "        self.status = ['open' for x in range(size)]\n",
    "\n",
    "    def __str__ (self): # for print\n",
    "        return str(self.table)\n",
    "\n",
    "    def insert(self, elem): # Adds an element into the hashtable\n",
    "        hash = ord(elem[0]) % self.size\n",
    "        if self.status[hash] == 'open':\n",
    "            self.table[hash] = elem\n",
    "            self.status[hash] = 'taken'\n",
    "        i = 1\n",
    "        while self.status[hash] == 'deleted' or self.status[hash] == 'taken':\n",
    "            if hash+i == self.size:\n",
    "                hash = 0\n",
    "            self.table[hash] = elem\n",
    "            self.status[hash] = 'taken'\n",
    "            i+=1\n",
    "            break\n",
    "\n",
    "    def member(self, elem): # Returns if element exists in hashtable\n",
    "        return elem in self.table\n",
    "\n",
    "    def delete(self, elem): # Removes an element from the hashtable\n",
    "        hash = ord(elem[0]) % self.size\n",
    "        self.table[hash] = None\n",
    "        self.status[hash] = 'deleted'"
   ]
  },
  {
   "cell_type": "markdown",
   "metadata": {},
   "source": [
    "### Testing code"
   ]
  },
  {
   "cell_type": "code",
   "execution_count": 10,
   "metadata": {},
   "outputs": [
    {
     "name": "stdout",
     "output_type": "stream",
     "text": [
      "True\n",
      "True\n",
      "False\n",
      "True\n",
      "['chris', None, None, None, None, None, None, 'amy', None, None]\n",
      "['taken', 'open', 'open', 'open', 'open', 'open', 'open', 'taken', 'open', 'deleted']\n"
     ]
    }
   ],
   "source": [
    "s = MyHashtable(10)\n",
    "s.insert(\"amy\") #97\n",
    "s.insert(\"chase\") #99\n",
    "s.insert(\"chris\") #99\n",
    "print(s.member(\"amy\"))\n",
    "print(s.member(\"chris\"))\n",
    "print(s.member(\"alyssa\"))\n",
    "s.delete(\"chase\")\n",
    "print(s.member(\"chris\"))\n",
    "print(s)\n",
    "print(s.status)"
   ]
  },
  {
   "cell_type": "code",
   "execution_count": null,
   "metadata": {},
   "outputs": [],
   "source": []
  }
 ],
 "metadata": {
  "kernelspec": {
   "display_name": "Python 3",
   "language": "python",
   "name": "python3"
  },
  "language_info": {
   "codemirror_mode": {
    "name": "ipython",
    "version": 3
   },
   "file_extension": ".py",
   "mimetype": "text/x-python",
   "name": "python",
   "nbconvert_exporter": "python",
   "pygments_lexer": "ipython3",
   "version": "3.8.5"
  }
 },
 "nbformat": 4,
 "nbformat_minor": 4
}
