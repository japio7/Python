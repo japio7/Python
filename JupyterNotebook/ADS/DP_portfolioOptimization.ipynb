{
 "cells": [
  {
   "cell_type": "markdown",
   "metadata": {},
   "source": [
    "# Portfolio Optimization\n",
    "## Dynamic Programming algorithm\n",
    "### Import Libraries"
   ]
  },
  {
   "cell_type": "code",
   "execution_count": 4,
   "metadata": {},
   "outputs": [],
   "source": [
    "import pandas as pd"
   ]
  },
  {
   "cell_type": "markdown",
   "metadata": {},
   "source": [
    "### Load File"
   ]
  },
  {
   "cell_type": "code",
   "execution_count": 5,
   "metadata": {},
   "outputs": [],
   "source": [
    "def loadInvestments(file_name):\n",
    "    data = pd.read_csv(file_name)[1:].reset_index(drop=True)\n",
    "    data = pd.DataFrame({'InvestmentName':data['RegionName'],\n",
    "    'InvestmentCost':data['Zhvi'], 'EstimatedReturnOnInvestment':data['10Year']})\n",
    "    return data.values.tolist()"
   ]
  },
  {
   "cell_type": "markdown",
   "metadata": {},
   "source": [
    "### Optimize Investments and get Results"
   ]
  },
  {
   "cell_type": "code",
   "execution_count": 6,
   "metadata": {},
   "outputs": [],
   "source": [
    "def optimizeInvestments(A, amount):\n",
    "    num = len(A) # number of choices for investments\n",
    "\n",
    "    # incomes correponding to investments\n",
    "    income_made = [None for i in range(num)]\n",
    "\n",
    "    for i in range(num):\n",
    "        income_made[i] = A[i][1] * A[i][2]\n",
    "        \n",
    "    investments = [None for i in range(num)]\n",
    "    \n",
    "    # Convert all investments to use 100 as the unit\n",
    "    # Will make algorithm execute a lot faster\n",
    "    for i in range(num):\n",
    "        investments[i] = A[i][1]//100\n",
    "        \n",
    "    # Convert the total invest amount to use 100 as the unit\n",
    "    amount = amount//100\n",
    "    \n",
    "    table = [[0 for j in range(amount+1)] for i in range(num+1)]\n",
    "    \n",
    "    array = [[[] for j in range(amount+1)] for i in range(num +1)]\n",
    "    \n",
    "    for i in range(num):\n",
    "        for j in range(amount+1):\n",
    "            if j < investments[i]: \n",
    "                table[i+1][j] = table[i][j]\n",
    "                array[i+1][j] = array[i][j]\n",
    "            else:\n",
    "                selected = table[i][j-investments[i]] + income_made[i]\n",
    "                if selected > table[i][j]:\n",
    "                    table[i+1][j] = selected\n",
    "                    array[i+1][j] = array[i][j - investments[i]] + [i]\n",
    "                else:\n",
    "                    table[i+1][j] = table[i][j]\n",
    "                    array[i+1][j] = array[i][j]\n",
    "    \n",
    "    investments = [A[i][0] for i in array[num][amount]]\n",
    "    return(table[num][amount], investments)"
   ]
  },
  {
   "cell_type": "markdown",
   "metadata": {},
   "source": [
    "### Execute Program"
   ]
  },
  {
   "cell_type": "code",
   "execution_count": 7,
   "metadata": {},
   "outputs": [],
   "source": [
    "lst_investments = loadInvestments('State_Zhvi_Summary_AllHomes.csv')\n",
    "max_roi, investments = optimizeInvestments(lst_investments, 1000000)"
   ]
  },
  {
   "cell_type": "markdown",
   "metadata": {},
   "source": [
    "### Print Results"
   ]
  },
  {
   "cell_type": "code",
   "execution_count": 8,
   "metadata": {},
   "outputs": [
    {
     "name": "stdout",
     "output_type": "stream",
     "text": [
      "Max roi : 49455.55658990001\n",
      "Investments : ['Michigan', 'Tennessee', 'Colorado', 'Nevada']\n"
     ]
    }
   ],
   "source": [
    "print(f'Max roi : {max_roi}')\n",
    "print(f'Investments : {investments}')"
   ]
  },
  {
   "cell_type": "code",
   "execution_count": null,
   "metadata": {},
   "outputs": [],
   "source": []
  }
 ],
 "metadata": {
  "kernelspec": {
   "display_name": "Python 3",
   "language": "python",
   "name": "python3"
  },
  "language_info": {
   "codemirror_mode": {
    "name": "ipython",
    "version": 3
   },
   "file_extension": ".py",
   "mimetype": "text/x-python",
   "name": "python",
   "nbconvert_exporter": "python",
   "pygments_lexer": "ipython3",
   "version": "3.8.5"
  }
 },
 "nbformat": 4,
 "nbformat_minor": 4
}
