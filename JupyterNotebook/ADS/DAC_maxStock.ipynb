{
 "cells": [
  {
   "cell_type": "markdown",
   "metadata": {},
   "source": [
    "# Max Stock\n",
    "## DAC algorithm\n",
    "### Read in .csv file, cleanup, and return Pandas DataFrame"
   ]
  },
  {
   "cell_type": "code",
   "execution_count": 1,
   "metadata": {},
   "outputs": [],
   "source": [
    "import pandas as pd\n",
    "\n",
    "# Read in csv file, cleanup, and return dataframe\n",
    "def cleanData(file):\n",
    "    df = pd.read_csv(file)\n",
    "    del df['open']\n",
    "    del df['low']\n",
    "    del df['high']\n",
    "    del df['volume']\n",
    "    return df"
   ]
  },
  {
   "cell_type": "markdown",
   "metadata": {},
   "source": [
    "### Set df equal to cleanData(file) and read in .csv file 'securities.csv'"
   ]
  },
  {
   "cell_type": "code",
   "execution_count": 2,
   "metadata": {},
   "outputs": [],
   "source": [
    "df = cleanData('prices-split-adjusted.csv')\n",
    "\n",
    "# Read in csv file that holds all companies info\n",
    "companies = pd.read_csv('securities.csv')"
   ]
  },
  {
   "cell_type": "markdown",
   "metadata": {},
   "source": [
    "### Divide and Conquer algorithm"
   ]
  },
  {
   "cell_type": "code",
   "execution_count": 3,
   "metadata": {},
   "outputs": [],
   "source": [
    "def maxProfit(A, low = 0, high = None):\n",
    "    if high == None:\n",
    "        high = len(A)-1\n",
    "\n",
    "    # Base case\n",
    "    if low == high:\n",
    "        if A[low] > 0:\n",
    "            return A[low]\n",
    "        else:\n",
    "            return 0\n",
    "\n",
    "    mid = (low+high)//2\n",
    "\n",
    "    # recursive calls\n",
    "    maxLeft = maxProfit(A, low, mid)\n",
    "    maxRight = maxProfit(A, mid+1, high)\n",
    "\n",
    "    # Loop through left\n",
    "    maxLeft2Center = left2Center = 0\n",
    "    for i in range(mid, low-1, -1):\n",
    "        left2Center+=A[i]\n",
    "        maxLeft2Center = max(left2Center, maxLeft2Center)\n",
    "\n",
    "    # Loop through right\n",
    "    maxRight2Center = right2Center = 0\n",
    "    for i in range(mid+1, high+1):\n",
    "        right2Center+=A[i]\n",
    "        maxRight2Center = max(right2Center, maxRight2Center)\n",
    "    return max(maxLeft, maxRight, maxLeft2Center+maxRight2Center)"
   ]
  },
  {
   "cell_type": "markdown",
   "metadata": {},
   "source": [
    "### Define the main function and returns a Pandas DataFrame"
   ]
  },
  {
   "cell_type": "code",
   "execution_count": 4,
   "metadata": {},
   "outputs": [],
   "source": [
    "def main(A):\n",
    "    bestStock = [None, None, None, None, None, 0]\n",
    "    for company in companies['Ticker symbol']:\n",
    "        if company in list(A['symbol']):\n",
    "            df = A[A['symbol'] == company]\n",
    "            closePrice = list(df.close)\n",
    "            closeDiff = list(df.close.diff().fillna(0))\n",
    "\n",
    "            date = list(df.iloc[:,0])\n",
    "            profit = maxProfit(closeDiff)\n",
    "            minPrice, maxPrice = min(closePrice), max(closePrice)\n",
    "            buyDay, sellDay = closePrice.index(minPrice), closePrice.index(maxPrice)\n",
    "            buyDate, sellDate = date[buyDay], date[sellDay]\n",
    "            stock = [company, buyDate, buyDay, sellDate, sellDay, round(profit,2)]\n",
    "\n",
    "            if stock[5] > bestStock[5]:\n",
    "                bestStock = stock\n",
    "\n",
    "    # Sets the ticker symbol equal to the company name in securities file\n",
    "    for i in range(len(companies)):\n",
    "        if bestStock[0] == companies.iloc[i,0]:\n",
    "            bestStock[0] = companies.iloc[i,1]\t\n",
    "\n",
    "    # Sets up 2 lists for the result which is a Pandas Dataframe\n",
    "    result1 = [bestStock[0], bestStock[1], bestStock[3], bestStock[2], bestStock[4], f\"${bestStock[5]}\"]\n",
    "    result2 = [\"Best Stock to Buy:\", \"Buy Date:\", \"Sell Date:\", \"Start Day:\", \"End Day:\", \"Profit:\"]\n",
    "    \n",
    "    result = pd.DataFrame(result1, result2)\n",
    "    result.columns = ['Result']\n",
    "\n",
    "    return result"
   ]
  },
  {
   "cell_type": "markdown",
   "metadata": {},
   "source": [
    "### Call the main function"
   ]
  },
  {
   "cell_type": "code",
   "execution_count": 5,
   "metadata": {},
   "outputs": [
    {
     "name": "stdout",
     "output_type": "stream",
     "text": [
      "                               Result\n",
      "Best Stock to Buy:  Priceline.com Inc\n",
      "Buy Date:                  2010-06-09\n",
      "Sell Date:                 2016-11-08\n",
      "Start Day:                        108\n",
      "End Day:                         1725\n",
      "Profit:                      $1402.94\n"
     ]
    }
   ],
   "source": [
    "if __name__ == '__main__':\n",
    "    print(main(df))"
   ]
  },
  {
   "cell_type": "code",
   "execution_count": null,
   "metadata": {},
   "outputs": [],
   "source": []
  }
 ],
 "metadata": {
  "kernelspec": {
   "display_name": "Python 3",
   "language": "python",
   "name": "python3"
  },
  "language_info": {
   "codemirror_mode": {
    "name": "ipython",
    "version": 3
   },
   "file_extension": ".py",
   "mimetype": "text/x-python",
   "name": "python",
   "nbconvert_exporter": "python",
   "pygments_lexer": "ipython3",
   "version": "3.8.5"
  }
 },
 "nbformat": 4,
 "nbformat_minor": 4
}
