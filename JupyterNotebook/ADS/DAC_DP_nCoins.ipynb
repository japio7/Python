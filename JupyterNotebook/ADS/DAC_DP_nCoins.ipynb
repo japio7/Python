{
 "cells": [
  {
   "cell_type": "markdown",
   "metadata": {},
   "source": [
    "# NCoins\n",
    "## DAC and DP algorithm "
   ]
  },
  {
   "cell_type": "markdown",
   "metadata": {},
   "source": [
    "### Time the algorithm to find the minimum amount of coins for specified change"
   ]
  },
  {
   "cell_type": "markdown",
   "metadata": {},
   "source": [
    "### Import libraries"
   ]
  },
  {
   "cell_type": "code",
   "execution_count": 1,
   "metadata": {},
   "outputs": [],
   "source": [
    "from time import time\n",
    "import math"
   ]
  },
  {
   "cell_type": "markdown",
   "metadata": {},
   "source": [
    "### Divide and Conquer algorithm"
   ]
  },
  {
   "cell_type": "code",
   "execution_count": 2,
   "metadata": {},
   "outputs": [],
   "source": [
    "def DACcoins(coins, amount):\n",
    "    if amount == 0: # The base case\n",
    "        return 0\n",
    "    else: # The recursive case\n",
    "        minCoins = float(\"inf\")\n",
    "        for currentCoin in coins: # Check all coins\n",
    "        # If we can give change\n",
    "            if (amount - currentCoin) >= 0:\n",
    "                # Calculate the optimal\n",
    "                currentMin = DACcoins(coins, amount-currentCoin) + 1\n",
    "                # Keep the best\n",
    "                minCoins = min(minCoins, currentMin)\n",
    "        return minCoins"
   ]
  },
  {
   "cell_type": "markdown",
   "metadata": {},
   "source": [
    "### Dynamic Programming with Traceback algorithm"
   ]
  },
  {
   "cell_type": "code",
   "execution_count": 3,
   "metadata": {},
   "outputs": [],
   "source": [
    "def DPcoins(coins, amount):\n",
    "    # Create the initial tables\n",
    "    dp = [0 for i in range(amount + 1)]\n",
    "    # Fill in the base case(s)\n",
    "    if amount == 0:\n",
    "        return 0\n",
    "    # Fill in the rest of the table\n",
    "    else:\n",
    "        for i in range(1, amount + 1):\n",
    "            dp[i] = math.inf\n",
    "            for j in range(len(coins)):\n",
    "                if coins[j] <= i:\n",
    "                    res = dp[i - coins[j]]\n",
    "                    if res != math.inf and res + 1 < dp[i]:\n",
    "                        dp[i] = res + 1\n",
    "        # Perform the traceback to print result\n",
    "        return dp[-1]"
   ]
  },
  {
   "cell_type": "markdown",
   "metadata": {},
   "source": [
    "### List of Coins"
   ]
  },
  {
   "cell_type": "code",
   "execution_count": 5,
   "metadata": {},
   "outputs": [],
   "source": [
    "C = [1,5,10,25]"
   ]
  },
  {
   "cell_type": "markdown",
   "metadata": {},
   "source": [
    "### Enter amount of change\n",
    "### Time DAC and DP algorithm"
   ]
  },
  {
   "cell_type": "code",
   "execution_count": 6,
   "metadata": {},
   "outputs": [
    {
     "name": "stdout",
     "output_type": "stream",
     "text": [
      "Enter desired amount of change: 25\n",
      "DAC:\n",
      "optimal: 1  in time:  3.3 ms\n",
      "1\n",
      "\n",
      "DP:\n",
      "optimal: 1  in time:  0.5 ms\n",
      "1\n"
     ]
    }
   ],
   "source": [
    "A = input('Enter desired amount of change: ')\n",
    "\n",
    "while not A.isdigit():\n",
    "    print('Enter valid input!')\n",
    "    A = input('Enter desired amount of change: ')\n",
    "\n",
    "A = int(A)\n",
    "assert A >= 0\n",
    "\n",
    "print(\"DAC:\")\n",
    "t1 = time()\n",
    "numCoins = DACcoins(C,A)\n",
    "t2 = time()\n",
    "\n",
    "print(\"optimal:\",numCoins,\" in time: \",round((t2-t1)*1000,1),\"ms\")\n",
    "print(numCoins)\n",
    "\n",
    "print()\n",
    "\n",
    "print(\"DP:\")\n",
    "t1 = time()\n",
    "numCoins = DPcoins(C,A)\n",
    "t2 = time()\n",
    "print(\"optimal:\",numCoins,\" in time: \",round((t2-t1)*1000,1),\"ms\")\n",
    "print(numCoins)"
   ]
  },
  {
   "cell_type": "code",
   "execution_count": null,
   "metadata": {},
   "outputs": [],
   "source": []
  }
 ],
 "metadata": {
  "kernelspec": {
   "display_name": "Python 3",
   "language": "python",
   "name": "python3"
  },
  "language_info": {
   "codemirror_mode": {
    "name": "ipython",
    "version": 3
   },
   "file_extension": ".py",
   "mimetype": "text/x-python",
   "name": "python",
   "nbconvert_exporter": "python",
   "pygments_lexer": "ipython3",
   "version": "3.8.5"
  }
 },
 "nbformat": 4,
 "nbformat_minor": 4
}
