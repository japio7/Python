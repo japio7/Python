{
 "cells": [
  {
   "cell_type": "markdown",
   "metadata": {},
   "source": [
    "# Test Sort\n",
    "### To test different sorting methods efficiencies. N is number of elements in the list. Each sorting method sorts the same list over the same number of elements and returns the results in miliseconds."
   ]
  },
  {
   "cell_type": "markdown",
   "metadata": {},
   "source": [
    "### Import Libraries"
   ]
  },
  {
   "cell_type": "code",
   "execution_count": 11,
   "metadata": {},
   "outputs": [],
   "source": [
    "import random\n",
    "import pandas as pd\n",
    "from time import time"
   ]
  },
  {
   "cell_type": "markdown",
   "metadata": {},
   "source": [
    "## Generate Random List"
   ]
  },
  {
   "cell_type": "code",
   "execution_count": 12,
   "metadata": {},
   "outputs": [],
   "source": [
    "def randomList(n):\n",
    "    A = [i for i in range(n)]\n",
    "    random.shuffle(A)\n",
    "    return A"
   ]
  },
  {
   "cell_type": "markdown",
   "metadata": {},
   "source": [
    "## Merge Sort"
   ]
  },
  {
   "cell_type": "code",
   "execution_count": 16,
   "metadata": {},
   "outputs": [],
   "source": [
    "def mergeSort(nums):\n",
    "    if len(nums) > 1:\n",
    "        mid = len(nums)//2\n",
    "        left = nums[:mid]\n",
    "        right = nums[mid:]\n",
    "        mergeSort(left)\n",
    "        mergeSort(right)\n",
    "\n",
    "        i, j, k = 0, 0, 0\n",
    "\n",
    "        while i < len(left) and j < len(right):\n",
    "            if left[i] < right[j]:\n",
    "                nums[k] = left[i]\n",
    "                i+=1\n",
    "            else:\n",
    "                nums[k] = right[j]\n",
    "                j+=1\n",
    "            k+=1\n",
    "\n",
    "        while i < len(left):\n",
    "            nums[k] = left[i]\n",
    "            i+=1\n",
    "            k+=1\n",
    "\n",
    "        while j < len(right):\n",
    "            nums[k] = right[j]\n",
    "            j+=1\n",
    "            k+=1\n",
    "\n",
    "        return nums"
   ]
  },
  {
   "cell_type": "markdown",
   "metadata": {},
   "source": [
    "## Insertion Sort"
   ]
  },
  {
   "cell_type": "code",
   "execution_count": 17,
   "metadata": {},
   "outputs": [],
   "source": [
    "def insertionSort(nums):\n",
    "    for i in range(len(nums)):\n",
    "        k = nums[i]\n",
    "        j = i - 1\n",
    "\n",
    "        while j >= 0 and k < nums[j]:\n",
    "            nums[j+1] = nums[j]\n",
    "            j-=1\n",
    "        nums[j+1] = k\n",
    "\n",
    "    return nums"
   ]
  },
  {
   "cell_type": "markdown",
   "metadata": {},
   "source": [
    "## Bubble Sort"
   ]
  },
  {
   "cell_type": "code",
   "execution_count": 18,
   "metadata": {},
   "outputs": [],
   "source": [
    "def bubbleSort(nums):\n",
    "    for i in range(len(nums)-1,0,-1):\n",
    "        for j in range(i):\n",
    "            if nums[j] > nums[j+1]:\n",
    "                temp = nums[j]\n",
    "                nums[j] = nums[j+1]\n",
    "                nums[j+1] = temp\n",
    "\n",
    "    return nums"
   ]
  },
  {
   "cell_type": "markdown",
   "metadata": {},
   "source": [
    "## Heap Sort"
   ]
  },
  {
   "cell_type": "code",
   "execution_count": 19,
   "metadata": {},
   "outputs": [],
   "source": [
    "def heapSort(nums):\n",
    "    length = len(nums) - 1\n",
    "    leastParent = length//2\n",
    "\n",
    "    for i in range(leastParent, -1, -1):\n",
    "        moveDown(nums, i, length)\n",
    "\n",
    "    for i in range(length, 0, -1):\n",
    "        if nums[0] > nums[i]:\n",
    "            swap(nums, 0, i)\n",
    "            moveDown(nums, 0, i-1)\n",
    "    return nums\n",
    "\n",
    "def moveDown(a, F, L):\n",
    "    largest = 2 * F + 1\n",
    "\n",
    "    while largest <= L:\n",
    "        if largest < L and a[largest] < a[largest+1]:\n",
    "            largest+=1\n",
    "        if a[largest] > a[F]:\n",
    "            swap(a, largest, F)\n",
    "            F = largest\n",
    "            largest = 2 * F + 1\n",
    "        else:\n",
    "            return\n",
    "\n",
    "def swap(A, x, y):\n",
    "    temp = A[x]\n",
    "    A[x] = A[y]\n",
    "    A[y] = temp"
   ]
  },
  {
   "cell_type": "markdown",
   "metadata": {},
   "source": [
    "## Quick Sort"
   ]
  },
  {
   "cell_type": "code",
   "execution_count": 20,
   "metadata": {},
   "outputs": [],
   "source": [
    "def quickSort(nums):\n",
    "    if len(nums) < 2:\n",
    "        return nums\n",
    "\n",
    "    partitionsPosition = 0 \n",
    "\n",
    "    for i in range(1, len(nums)):\n",
    "        if nums[i] <= nums[0]:\n",
    "            partitionsPosition += 1\n",
    "            temp = nums[i]\n",
    "            nums[i] = nums[partitionsPosition]\n",
    "            nums[partitionsPosition] = temp\n",
    "\n",
    "    temp = nums[0]\n",
    "    nums[0] = nums[partitionsPosition] \n",
    "    nums[partitionsPosition] = temp\n",
    "\n",
    "    left = quickSort(nums[0:partitionsPosition])\n",
    "    right = quickSort(nums[partitionsPosition+1:len(nums)])\n",
    "    nums = left + [nums[partitionsPosition]] + right\n",
    "\n",
    "    return nums"
   ]
  },
  {
   "cell_type": "markdown",
   "metadata": {},
   "source": [
    "## Selection Sort"
   ]
  },
  {
   "cell_type": "code",
   "execution_count": 21,
   "metadata": {},
   "outputs": [],
   "source": [
    "def selectionSort(nums, a = 1):\n",
    "    for i in range(len(nums)-1):\n",
    "        minPos = i\n",
    "        for j in range(i, len(nums)):\n",
    "            if nums[j] < nums[minPos]:\n",
    "                minPos = j\n",
    "\n",
    "        temp = nums[i]\n",
    "        nums[i] = nums[minPos]\n",
    "        nums[minPos] = temp\n",
    "    return nums"
   ]
  },
  {
   "cell_type": "markdown",
   "metadata": {},
   "source": [
    "## For loop to run tests"
   ]
  },
  {
   "cell_type": "code",
   "execution_count": 22,
   "metadata": {},
   "outputs": [],
   "source": [
    "def runTests(start, end, increment):\n",
    "    a2 = []\n",
    "    for n in range(start, end+1, increment):\n",
    "        a1 = []\n",
    "        lst = randomList(n)\n",
    "        mergeCopy = lst.copy()\n",
    "        insertCopy = lst.copy()\n",
    "        bubbleCopy = lst.copy()\n",
    "        heapCopy = lst.copy()\n",
    "        quickCopy = lst.copy()\n",
    "        selectCopy = lst.copy()\n",
    "        pythonSort = lst.copy()\n",
    "        pythonSorted = lst.copy()\n",
    "\n",
    "        m1 = time()\n",
    "        mergeSort(mergeCopy)\n",
    "        m2 = time()\n",
    "        mtime = (m2 - m1) * 1000\n",
    "\n",
    "        i1 = time()\n",
    "        insertionSort(insertCopy)\n",
    "        i2 = time()\n",
    "        itime = (i2 - i1) * 1000\n",
    "\n",
    "        b1 = time()\n",
    "        bubbleSort(bubbleCopy)\n",
    "        b2 = time()\n",
    "        btime = (b2 - b1) * 1000\n",
    "\n",
    "        h1 = time()\n",
    "        heapSort(heapCopy)\n",
    "        h2 = time()\n",
    "        htime = (h2 - h1) * 1000\n",
    "\n",
    "        q1 = time()\n",
    "        quickSort(quickCopy)\n",
    "        q2 = time()\n",
    "        qtime = (q2 - q1) * 1000\n",
    "\n",
    "        s1 = time()\n",
    "        selectionSort(selectCopy)\n",
    "        s2 = time()\n",
    "        stime = (s2 - s1) * 1000\n",
    "        \n",
    "        a1.append(n)\n",
    "        a1.append(round(mtime, 2))\n",
    "        a1.append(round(itime, 2))\n",
    "        a1.append(round(btime, 2))\n",
    "        a1.append(round(htime, 2))\n",
    "        a1.append(round(qtime, 2))\n",
    "        a1.append(round(stime, 2))\n",
    "\n",
    "        a2.append(a1)\n",
    "\n",
    "    return a2"
   ]
  },
  {
   "cell_type": "markdown",
   "metadata": {},
   "source": [
    "## Store the results in a DataFrame and print the results"
   ]
  },
  {
   "cell_type": "code",
   "execution_count": 23,
   "metadata": {
    "scrolled": true
   },
   "outputs": [
    {
     "name": "stdout",
     "output_type": "stream",
     "text": [
      "    N  Merge  Insert  Bubble   Heap  Quick  Selection\n",
      "  100   0.45    0.56    0.94   0.33   0.26       0.43\n",
      "  200   0.64    1.67    3.91   0.89   0.39       1.98\n",
      "  300   1.01    3.45    8.45   1.43   0.89       5.09\n",
      "  400   1.67    9.75   13.07   1.61   5.03       6.86\n",
      "  500   1.35    9.25   19.98   1.68   0.97       9.71\n",
      "  600   1.70   14.05   30.38   2.04   1.14      13.82\n",
      "  700   1.99   18.58   39.55   2.45   1.41      19.25\n",
      "  800   2.35   24.61   52.44   2.88   1.59      24.35\n",
      "  900   2.75   30.34   66.25   3.30   2.09      30.79\n",
      " 1000   3.04   37.66   82.82   3.74   2.08      38.27\n",
      " 1100   3.40   46.68  103.45   4.26   2.35      52.25\n",
      " 1200   4.06   58.14  125.80   4.65   2.44      55.41\n",
      " 1300   4.27   66.92  150.72   8.10   5.23      75.54\n",
      " 1400   4.46   79.88  169.72   5.68   2.95      75.81\n",
      " 1500   4.86   89.93  202.69   6.00   3.30      88.90\n",
      " 1600   5.16  105.33  224.35   6.42   3.30      97.74\n",
      " 1700   6.56  111.55  250.89   7.00   3.82     111.81\n",
      " 1800   5.93  124.91  278.60   7.33   3.93     123.25\n",
      " 1900   6.19  140.67  315.96   7.81   4.15     138.12\n",
      " 2000   6.65  157.69  349.56   8.35   4.85     152.26\n",
      " 2100   7.14  176.32  387.33   8.87   4.65     173.00\n",
      " 2200   7.64  197.20  429.65   9.30   5.16     184.27\n",
      " 2300   7.85  207.73  466.97   9.96   5.29     201.83\n",
      " 2400   8.24  233.86  515.76  10.24   5.58     219.79\n",
      " 2500   8.63  252.00  568.05  10.98   5.97     240.11\n",
      " 2600   9.21  264.78  606.77  11.39   5.95     258.28\n",
      " 2700   9.33  288.07  646.63  11.81   6.20     278.76\n",
      " 2800   9.74  305.76  689.75  12.10   6.29     305.58\n",
      " 2900  10.10  353.05  751.83  13.06   7.44     323.46\n",
      " 3000  11.05  359.05  794.08  13.25   7.79     353.41\n"
     ]
    }
   ],
   "source": [
    "matrix = pd.DataFrame(runTests(100, 3000, 100), columns = ['N', 'Merge', 'Insert', 'Bubble', 'Heap', 'Quick', 'Selection'])\n",
    "\n",
    "result = matrix.to_string(index = False)\n",
    "\n",
    "# Print result in miliseconds\n",
    "print(result)"
   ]
  },
  {
   "cell_type": "code",
   "execution_count": null,
   "metadata": {},
   "outputs": [],
   "source": []
  }
 ],
 "metadata": {
  "kernelspec": {
   "display_name": "Python 3",
   "language": "python",
   "name": "python3"
  },
  "language_info": {
   "codemirror_mode": {
    "name": "ipython",
    "version": 3
   },
   "file_extension": ".py",
   "mimetype": "text/x-python",
   "name": "python",
   "nbconvert_exporter": "python",
   "pygments_lexer": "ipython3",
   "version": "3.8.5"
  }
 },
 "nbformat": 4,
 "nbformat_minor": 4
}
