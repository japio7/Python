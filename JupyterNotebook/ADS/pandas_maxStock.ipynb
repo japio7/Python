{
 "cells": [
  {
   "cell_type": "markdown",
   "metadata": {},
   "source": [
    "# Max Stock\n",
    "## Using Pandas\n",
    "### Read in .csv file into Pandas DataFrame"
   ]
  },
  {
   "cell_type": "code",
   "execution_count": 1,
   "metadata": {},
   "outputs": [],
   "source": [
    "import pandas as pd\n",
    "\n",
    "df = pd.read_csv('prices-split-adjusted.csv', index_col = 'date', usecols = ['date', 'symbol', 'close'], parse_dates = True)"
   ]
  },
  {
   "cell_type": "markdown",
   "metadata": {},
   "source": [
    "### Pandas Methods to groupby and aggregate the data"
   ]
  },
  {
   "cell_type": "code",
   "execution_count": 2,
   "metadata": {},
   "outputs": [],
   "source": [
    "df2 = pd.concat([\n",
    "    df[['symbol', 'close']].groupby('symbol').agg(['max', 'idxmax']).\n",
    "    rename(columns = {'max' : 'high', 'idxmax' : 'date_high'}),\n",
    "    df[['symbol', 'close']].groupby('symbol').agg(['min', 'idxmin']).\n",
    "    rename(columns = {'min' : 'low', 'idxmin' : 'date_low'})], axis = 1)"
   ]
  },
  {
   "cell_type": "markdown",
   "metadata": {},
   "source": [
    "### Calculate the difference"
   ]
  },
  {
   "cell_type": "code",
   "execution_count": 4,
   "metadata": {},
   "outputs": [],
   "source": [
    "df2['close', 'profit'] = df2['close', 'high'] - df2['close', 'low']"
   ]
  },
  {
   "cell_type": "markdown",
   "metadata": {},
   "source": [
    "### Setting df2 to needed variables and sorting them and printing the result"
   ]
  },
  {
   "cell_type": "code",
   "execution_count": 5,
   "metadata": {},
   "outputs": [
    {
     "name": "stdout",
     "output_type": "stream",
     "text": [
      "              close                      \n",
      "             profit  date_high   date_low\n",
      "symbol                                   \n",
      "PCLN    1402.940003 2016-11-08 2010-06-09\n"
     ]
    }
   ],
   "source": [
    "df2 = df2[[['close', 'profit'], ['close', 'date_high'], ['close', 'date_low']]].sort_values(('close', 'profit'), ascending = False).head(1)\n",
    "print(df2)"
   ]
  },
  {
   "cell_type": "code",
   "execution_count": null,
   "metadata": {},
   "outputs": [],
   "source": []
  }
 ],
 "metadata": {
  "kernelspec": {
   "display_name": "Python 3",
   "language": "python",
   "name": "python3"
  },
  "language_info": {
   "codemirror_mode": {
    "name": "ipython",
    "version": 3
   },
   "file_extension": ".py",
   "mimetype": "text/x-python",
   "name": "python",
   "nbconvert_exporter": "python",
   "pygments_lexer": "ipython3",
   "version": "3.8.5"
  }
 },
 "nbformat": 4,
 "nbformat_minor": 4
}
