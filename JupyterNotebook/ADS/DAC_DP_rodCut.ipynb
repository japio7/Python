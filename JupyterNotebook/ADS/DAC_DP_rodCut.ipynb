{
 "cells": [
  {
   "cell_type": "markdown",
   "metadata": {},
   "source": [
    "## Rod Cut"
   ]
  },
  {
   "cell_type": "markdown",
   "metadata": {},
   "source": [
    "### Divide And Conquer"
   ]
  },
  {
   "cell_type": "code",
   "execution_count": 1,
   "metadata": {},
   "outputs": [],
   "source": [
    "def rodCutDAC(n, rodLengthPrices): \n",
    "    if n == 0:\n",
    "        return 0\n",
    "    else:\n",
    "        maxProfit = 0\n",
    "        for i in range(1,n+1):\n",
    "            currentProfit = rodLengthPrices[i] + rodCutDAC(n-i, rodLengthPrices)\n",
    "            if currentProfit > maxProfit:\n",
    "                maxProfit = currentProfit\n",
    "        return maxProfit"
   ]
  },
  {
   "cell_type": "markdown",
   "metadata": {},
   "source": [
    "### Dynamic Programming"
   ]
  },
  {
   "cell_type": "code",
   "execution_count": 2,
   "metadata": {},
   "outputs": [],
   "source": [
    "def rodCutDP(n, rodLengthPrices):  \n",
    "    cuts = [0 for n in range(0, n+1)]\n",
    "    trace = [-1 for n in range(0, n+1)]\n",
    "\n",
    "    cuts[0] = 0\n",
    "\n",
    "    for tableIndex in range(1,n+1):\n",
    "        maxProfit = 0\n",
    "        for i in range(1, tableIndex+1):\n",
    "            currentProfit = rodLengthPrices[i] + cuts[tableIndex-i]\n",
    "            if currentProfit > maxProfit:\n",
    "                maxProfit = currentProfit\n",
    "                trace[tableIndex] = i\n",
    "        cuts[tableIndex] = maxProfit\n",
    "\n",
    "    print(cuts)\n",
    "    print(trace)\n",
    "\n",
    "    printCuts(n, rodLengthPrices, trace)\n",
    "\n",
    "    return cuts[n]\n",
    "\n",
    "def printCuts(n, rodLengthPrices, s):\n",
    "    res = ''\n",
    "    while n > 0:\n",
    "        res += str(s[n]) + ''\n",
    "        n -= s[n]\n",
    "    print(f'\\nThe cuts that give the optimal answer : {res}')"
   ]
  },
  {
   "cell_type": "markdown",
   "metadata": {},
   "source": [
    "### Driver Code"
   ]
  },
  {
   "cell_type": "code",
   "execution_count": 3,
   "metadata": {},
   "outputs": [
    {
     "name": "stdout",
     "output_type": "stream",
     "text": [
      "Divide And Conquer\n",
      "10\n",
      "\n",
      "Dynamic Programming\n",
      "[0, 1, 5, 8, 10]\n",
      "[-1, 1, 2, 3, 2]\n",
      "\n",
      "The cuts that give the optimal answer : 22\n",
      "10\n"
     ]
    }
   ],
   "source": [
    "rodLengthPrices = [0,1,5,8,9,10,17,17,20]\n",
    "print('Divide And Conquer')\n",
    "print(rodCutDAC(4, rodLengthPrices))\n",
    "print('\\nDynamic Programming')\n",
    "print(rodCutDP(4, rodLengthPrices))"
   ]
  },
  {
   "cell_type": "code",
   "execution_count": null,
   "metadata": {},
   "outputs": [],
   "source": []
  }
 ],
 "metadata": {
  "kernelspec": {
   "display_name": "Python 3",
   "language": "python",
   "name": "python3"
  },
  "language_info": {
   "codemirror_mode": {
    "name": "ipython",
    "version": 3
   },
   "file_extension": ".py",
   "mimetype": "text/x-python",
   "name": "python",
   "nbconvert_exporter": "python",
   "pygments_lexer": "ipython3",
   "version": "3.8.5"
  }
 },
 "nbformat": 4,
 "nbformat_minor": 4
}
